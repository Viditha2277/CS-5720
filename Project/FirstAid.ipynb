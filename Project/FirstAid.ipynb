{
 "cells": [
  {
   "cell_type": "code",
   "execution_count": 1,
   "id": "25988c5b",
   "metadata": {},
   "outputs": [],
   "source": [
    "import tkinter as tk\n",
    "from tkinter import *\n",
    "from tkinter import filedialog\n",
    "from tkinter.filedialog import askopenfile\n",
    "from PIL import Image, ImageTk\n",
    "from tkvideo import tkvideo\n",
    "\n",
    "import os\n",
    "import tensorflow as tf\n",
    "from tensorflow.keras.utils import load_img, img_to_array\n",
    "\n",
    "import numpy as np\n",
    "import pandas as pd\n",
    "import seaborn as sb\n",
    "import matplotlib.pyplot as plt\n",
    "from warnings import filterwarnings\n",
    "from IPython.display import YouTubeVideo\n",
    "filterwarnings(\"ignore\")"
   ]
  },
  {
   "cell_type": "code",
   "execution_count": 2,
   "id": "5221b6af",
   "metadata": {},
   "outputs": [],
   "source": [
    "# IMPORTING DATASETS AND SETTING INDEXES\n",
    "\n",
    "first_aid_excel = pd.read_excel('FirstAid.xlsx')\n",
    "first_aid_excel.set_index(\"Injury\", inplace = True)"
   ]
  },
  {
   "cell_type": "code",
   "execution_count": 3,
   "id": "a0c7508b",
   "metadata": {},
   "outputs": [
    {
     "name": "stdout",
     "output_type": "stream",
     "text": [
      "Loaded model from disk\n"
     ]
    }
   ],
   "source": [
    "from tensorflow.keras.models import model_from_json\n",
    "\n",
    "json_file = open('model.json', 'r')\n",
    "loaded_model_json = json_file.read()\n",
    "json_file.close()\n",
    "model = model_from_json(loaded_model_json)\n",
    "\n",
    "# load weights into new model\n",
    "model.load_weights(\"model weights.h5\")\n",
    "print(\"Loaded model from disk\")"
   ]
  },
  {
   "cell_type": "code",
   "execution_count": 6,
   "id": "c6ea2526",
   "metadata": {},
   "outputs": [],
   "source": [
    "def firstaid_assistant():\n",
    "    \n",
    "    \n",
    "    my_w = tk.Tk()\n",
    "    my_w.geometry(\"600x750\")\n",
    "    my_w.title('First Aid Assistant')\n",
    "    \n",
    "    my_label_root = Label(my_w, \n",
    "                 text = \"Welcome to FIRST AID ASSISTANCE \\n Please follow the instructions as mentioned\",\n",
    "                 font=(\"Verdana\",12,'bold'), padx=10, pady=10).pack()\n",
    "    \n",
    "    b1 = tk.Button(my_w, text='Upload Files', width=20,command = lambda:upload_file()).pack(pady = 5)\n",
    "    \n",
    "    injuries = [\"Animal bite\",\"Bleeding\",\"Broken teeth\",\"Broken toe\",\"Bruises\",\"Chemical burn\",\"Choking\",\"Cuts\",\"Drowning\",\n",
    "                \"Freezing\",\"Frost bite\",\"Heat Rash\",\"Nose bleed\",\"Seizure\",\"Snake bite\",\"Splinter\"]\n",
    "    \n",
    "    predicted_classes = []\n",
    "    links = \"\"\n",
    "    \n",
    "    def upload_file():\n",
    "        f_types = [('Jpg Files', '*.jpg'),('PNG Files','*.png')]   # type of files to select \n",
    "        filename = tk.filedialog.askopenfilename(multiple=True,filetypes=f_types)\n",
    "    \n",
    "        for f in filename:\n",
    "            img=Image.open(f) # read the image file\n",
    "            img=img.resize((150,150)) # new width & height\n",
    "            img=ImageTk.PhotoImage(img)\n",
    "            e1 =tk.Label(my_w)\n",
    "        \n",
    "        \n",
    "            e1.image = img # keep a reference! by attaching it to a widget attribute\n",
    "            e1['image']=img # Show Image \n",
    "            e1.pack()\n",
    "            \n",
    "            img = load_img(f, target_size=(300, 300))\n",
    "            x = img_to_array(img)\n",
    "            x = np.expand_dims(img, axis=0)\n",
    "\n",
    "            images = np.vstack([x])\n",
    "            classes = model.predict(images, batch_size=10)\n",
    "            \n",
    "        for i in classes[0]:\n",
    "            predicted_classes.append(round(i))\n",
    "        for i in range (len(predicted_classes)):\n",
    "            if predicted_classes[i] == 1:\n",
    "                links = injuries[i]\n",
    "                break\n",
    "            \n",
    "        description = first_aid_excel._get_value(links,\"Description\")\n",
    "        l1 = tk.Label(my_w, text=description, font=(\"Ariel\",12,'bold'), wraplength = 500, pady = 6).pack()\n",
    "        \n",
    "        '''my_button = Button(base, text=\"Show Video\", pady = 5, command = firstaid_video(links))\n",
    "        my_button.pack()'''\n",
    "        \n",
    "        l = Label(my_w)\n",
    "        l.pack()\n",
    "\n",
    "        player = tkvideo(\"First Aid Videos/{}.mp4\".format(links), l, loop = 1, size = (410,300))\n",
    "\n",
    "        player.play()\n",
    "    \n",
    "        l1 = tk.Label(my_w, text = \"Do the procedure as told in the video and you will definetly get well soon\", \n",
    "                      font = (\"Ariel\",10,'bold'), pady = 5).pack()\n",
    "        \n",
    "        final1 = tk.Label(my_w, text = \"Thank you for using our services \\n Wish you a speedy recovery\", \n",
    "                          font = ('calibre',10,'bold'), pady = 5).pack()\n",
    "        \n",
    "        #time.sleep(5)\n",
    "        #bvPlayer(\"First Aid Videos/{}.mp4\".format(links), draggable = True, fps = 28, dim = (854, 480), videoOptions = True)\n",
    "        \n",
    "        \n",
    "    my_w.mainloop() "
   ]
  },
  {
   "cell_type": "code",
   "execution_count": 7,
   "id": "afd609cd",
   "metadata": {},
   "outputs": [
    {
     "name": "stdout",
     "output_type": "stream",
     "text": [
      "1/1 [==============================] - 8s 8s/step\n"
     ]
    }
   ],
   "source": [
    "firstaid_assistant()"
   ]
  },
  {
   "cell_type": "code",
   "execution_count": null,
   "id": "98cdbb7c",
   "metadata": {},
   "outputs": [],
   "source": []
  }
 ],
 "metadata": {
  "kernelspec": {
   "display_name": "Python 3 (ipykernel)",
   "language": "python",
   "name": "python3"
  },
  "language_info": {
   "codemirror_mode": {
    "name": "ipython",
    "version": 3
   },
   "file_extension": ".py",
   "mimetype": "text/x-python",
   "name": "python",
   "nbconvert_exporter": "python",
   "pygments_lexer": "ipython3",
   "version": "3.9.13"
  }
 },
 "nbformat": 4,
 "nbformat_minor": 5
}
