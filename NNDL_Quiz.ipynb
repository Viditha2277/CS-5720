{
  "nbformat": 4,
  "nbformat_minor": 0,
  "metadata": {
    "colab": {
      "provenance": []
    },
    "kernelspec": {
      "name": "python3",
      "display_name": "Python 3"
    },
    "language_info": {
      "name": "python"
    }
  },
  "cells": [
    {
      "cell_type": "code",
      "execution_count": 6,
      "metadata": {
        "id": "99mj_MmEgivB"
      },
      "outputs": [],
      "source": [
        "import tensorflow as tf\n",
        "import numpy as np\n",
        "from keras.datasets import mnist"
      ]
    },
    {
      "cell_type": "code",
      "source": [
        "(train_x,train_y),(test_x,test_y) = mnist.load_data()"
      ],
      "metadata": {
        "colab": {
          "base_uri": "https://localhost:8080/"
        },
        "id": "TWkGQZn6hlFm",
        "outputId": "571babd3-ac4d-4182-c706-201a766ff03d"
      },
      "execution_count": 4,
      "outputs": [
        {
          "output_type": "stream",
          "name": "stdout",
          "text": [
            "Downloading data from https://storage.googleapis.com/tensorflow/tf-keras-datasets/mnist.npz\n",
            "11490434/11490434 [==============================] - 0s 0us/step\n"
          ]
        }
      ]
    },
    {
      "cell_type": "code",
      "source": [
        "ip = train_x.shape[1]*train_x.shape[1]\n",
        "train_x = np.reshape(train_x,[-1,ip] )\n",
        "train_x = train_x.astype('float32')/255\n",
        "\n",
        "test_x = np.reshape(test_x,[-1,ip] )\n",
        "test_x = test_x.astype('float32')/255"
      ],
      "metadata": {
        "id": "lBTVQb2Sh-iX"
      },
      "execution_count": 7,
      "outputs": []
    },
    {
      "cell_type": "code",
      "source": [
        "nf = 0.5\n",
        "train_x_n = train_x + nf*np.random.normal(loc=0.0, scale=1.0, size=train_x.shape)\n",
        "test_x_n = test_x + nf*np.random.normal(loc=0.0, scale=1.0, size=test_x.shape)\n",
        "\n",
        "train_x_n = np.clip(train_x_n, 0., 1.)\n",
        "test_x_n = np.clip(test_x_n, 0., 1.)"
      ],
      "metadata": {
        "id": "r5xBTHq2mkID"
      },
      "execution_count": 8,
      "outputs": []
    },
    {
      "cell_type": "code",
      "source": [
        "from keras.layers import Input, Dense\n",
        "from keras.models import Model\n",
        "\n",
        "imgs = Input(shape=(784,))\n",
        "encode1 = Dense(128, activation='relu')(imgs)\n",
        "encode2 = Dense(64, activation='relu')(encode1)\n",
        "\n",
        "decode1 = Dense(128, activation='relu')(encode2)\n",
        "decode2 = Dense(784, activation='relu')(decode1)\n",
        "\n",
        "autoencoder = Model(imgs, decode2)"
      ],
      "metadata": {
        "id": "KqnYr7Anoe4E"
      },
      "execution_count": 14,
      "outputs": []
    },
    {
      "cell_type": "code",
      "source": [
        "from keras.optimizers import Adam\n",
        "autoencoder.compile(\n",
        "    optimizer=Adam(learning_rate=0.1),\n",
        "    loss=\"categorical_crossentropy\",\n",
        ")\n",
        "\n",
        "history = autoencoder.fit(train_x_n,\n",
        "                          train_x,\n",
        "                          epochs = 2,\n",
        "                          batch_size=256,\n",
        "                          validation_data=(test_x_n, test_x))"
      ],
      "metadata": {
        "colab": {
          "base_uri": "https://localhost:8080/"
        },
        "id": "txlYbcGGpeTF",
        "outputId": "d6666ff8-0031-49a8-a500-1c3069b7cf62"
      },
      "execution_count": 15,
      "outputs": [
        {
          "output_type": "stream",
          "name": "stdout",
          "text": [
            "Epoch 1/2\n",
            "235/235 [==============================] - 7s 25ms/step - loss: 709.5773 - val_loss: 710.3165\n",
            "Epoch 2/2\n",
            "235/235 [==============================] - 4s 18ms/step - loss: 700.3683 - val_loss: 700.7784\n"
          ]
        }
      ]
    },
    {
      "cell_type": "code",
      "source": [
        "e=autoencoder.evaluate(test_x_n, test_x)\n",
        "e"
      ],
      "metadata": {
        "colab": {
          "base_uri": "https://localhost:8080/"
        },
        "id": "ch3nwxgUqsxO",
        "outputId": "f2f071be-8ff9-4bc3-d128-d2a49393b1fe"
      },
      "execution_count": 16,
      "outputs": [
        {
          "output_type": "stream",
          "name": "stdout",
          "text": [
            "313/313 [==============================] - 1s 3ms/step - loss: 700.7784\n"
          ]
        },
        {
          "output_type": "execute_result",
          "data": {
            "text/plain": [
              "700.7784423828125"
            ]
          },
          "metadata": {},
          "execution_count": 16
        }
      ]
    },
    {
      "cell_type": "code",
      "source": [
        "preds = autoencoder.predict(test_x_n)\n",
        "display(test_x_n, preds)"
      ],
      "metadata": {
        "colab": {
          "base_uri": "https://localhost:8080/",
          "height": 381
        },
        "id": "j5BwQCp0rx1y",
        "outputId": "ea106bd0-7bb2-48c6-982a-feba56c862e7"
      },
      "execution_count": 17,
      "outputs": [
        {
          "output_type": "stream",
          "name": "stdout",
          "text": [
            "313/313 [==============================] - 2s 3ms/step\n"
          ]
        },
        {
          "output_type": "display_data",
          "data": {
            "text/plain": [
              "array([[0.        , 0.24699227, 0.17731618, ..., 0.        , 0.        ,\n",
              "        0.        ],\n",
              "       [0.13417203, 0.        , 0.        , ..., 0.02159746, 0.09355958,\n",
              "        0.03841438],\n",
              "       [0.53286475, 0.        , 0.09005611, ..., 0.        , 0.        ,\n",
              "        0.        ],\n",
              "       ...,\n",
              "       [0.57055229, 0.        , 0.        , ..., 0.        , 0.        ,\n",
              "        0.        ],\n",
              "       [0.27359744, 0.53211671, 0.        , ..., 0.        , 0.02201831,\n",
              "        0.        ],\n",
              "       [0.44249076, 0.        , 0.        , ..., 0.36865472, 0.        ,\n",
              "        0.44427684]])"
            ]
          },
          "metadata": {}
        },
        {
          "output_type": "display_data",
          "data": {
            "text/plain": [
              "array([[0., 0., 0., ..., 0., 0., 0.],\n",
              "       [0., 0., 0., ..., 0., 0., 0.],\n",
              "       [0., 0., 0., ..., 0., 0., 0.],\n",
              "       ...,\n",
              "       [0., 0., 0., ..., 0., 0., 0.],\n",
              "       [0., 0., 0., ..., 0., 0., 0.],\n",
              "       [0., 0., 0., ..., 0., 0., 0.]], dtype=float32)"
            ]
          },
          "metadata": {}
        }
      ]
    },
    {
      "cell_type": "code",
      "source": [],
      "metadata": {
        "id": "hN4M6UsAsvxr"
      },
      "execution_count": 20,
      "outputs": []
    },
    {
      "cell_type": "code",
      "source": [],
      "metadata": {
        "id": "J-S0pOrEtSEr"
      },
      "execution_count": null,
      "outputs": []
    }
  ]
}