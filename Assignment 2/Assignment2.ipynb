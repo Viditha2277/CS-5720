{
  "nbformat": 4,
  "nbformat_minor": 0,
  "metadata": {
    "colab": {
      "provenance": []
    },
    "kernelspec": {
      "name": "python3",
      "display_name": "Python 3"
    },
    "language_info": {
      "name": "python"
    }
  },
  "cells": [
    {
      "cell_type": "code",
      "execution_count": 25,
      "metadata": {
        "colab": {
          "base_uri": "https://localhost:8080/"
        },
        "id": "IcvjbWSthJYU",
        "outputId": "35cf1d7b-3e02-4ba8-f74b-f24bd7210256"
      },
      "outputs": [
        {
          "output_type": "stream",
          "name": "stdout",
          "text": [
            "Enter your first name: Viditha\n",
            "Enter your last name: Avuthu\n",
            "Viditha Avuthu\n",
            "Enter the string: Good evening\n",
            "Go vnn\n"
          ]
        }
      ],
      "source": [
        "def full_name(s, s1):\n",
        "  return s + \" \" + s1\n",
        "\n",
        "def string_alternative(s2):\n",
        "  return s2[::2]\n",
        "\n",
        "\n",
        "a = input(\"Enter your first name: \")\n",
        "b = input(\"Enter your last name: \")\n",
        "print(full_name(a, b))\n",
        "\n",
        "c = input(\"Enter the string: \")\n",
        "print(string_alternative(c))"
      ]
    },
    {
      "cell_type": "code",
      "source": [
        "with open('input.txt', 'r') as reader:\n",
        "  l = []\n",
        "  for line in reader.readlines():\n",
        "    l += list(map(str.strip, line.split(\" \")))\n",
        "\n",
        "dic = {}\n",
        "for i in l:\n",
        "  if i in dic.keys():\n",
        "    dic[i] += 1\n",
        "  else:\n",
        "    dic[i] = 0\n",
        "\n",
        "with open('output.txt', 'w') as writer:\n",
        "    for word, value in dic.items():\n",
        "        writer.write(word + \": \" + str(value) + \"\\n\")\n",
        "    writer.close()"
      ],
      "metadata": {
        "id": "3j8jCG7zmhTh"
      },
      "execution_count": 24,
      "outputs": []
    },
    {
      "cell_type": "code",
      "source": [
        "l = list(map(int, input().split()))\n",
        "\n",
        "s = []\n",
        "for i in l:\n",
        "  s.append(2.54*i)\n",
        "print(s)\n",
        "\n",
        "nl = [2.54*x for x in l]\n",
        "print(nl)"
      ],
      "metadata": {
        "colab": {
          "base_uri": "https://localhost:8080/"
        },
        "id": "zTvsCcvZnPbC",
        "outputId": "b15d9051-162d-481b-8c35-d8e45895b030"
      },
      "execution_count": 27,
      "outputs": [
        {
          "output_type": "stream",
          "name": "stdout",
          "text": [
            "150 155 145 148\n",
            "[381.0, 393.7, 368.3, 375.92]\n",
            "[381.0, 393.7, 368.3, 375.92]\n"
          ]
        }
      ]
    },
    {
      "cell_type": "code",
      "source": [],
      "metadata": {
        "id": "beYqVt1F1bGy"
      },
      "execution_count": null,
      "outputs": []
    }
  ]
}