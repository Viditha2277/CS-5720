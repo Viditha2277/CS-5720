{
  "nbformat": 4,
  "nbformat_minor": 0,
  "metadata": {
    "colab": {
      "provenance": []
    },
    "kernelspec": {
      "name": "python3",
      "display_name": "Python 3"
    },
    "language_info": {
      "name": "python"
    }
  },
  "cells": [
    {
      "cell_type": "code",
      "execution_count": 5,
      "metadata": {
        "colab": {
          "base_uri": "https://localhost:8080/"
        },
        "id": "_4Dq3xlmi_lR",
        "outputId": "fc02bcce-835e-441a-d212-028cdccceecc"
      },
      "outputs": [
        {
          "output_type": "execute_result",
          "data": {
            "text/plain": [
              "array([1, 2, 3, 5, 6, 7])"
            ]
          },
          "metadata": {},
          "execution_count": 5
        }
      ],
      "source": [
        "import pandas as pd\n",
        "df=pd.read_csv('glass.csv')\n",
        "df['Type'].unique()"
      ]
    },
    {
      "cell_type": "code",
      "source": [
        "from sklearn.model_selection import train_test_split\n",
        "from sklearn.naive_bayes import GaussianNB\n",
        "from sklearn.metrics import classification_report\n",
        "\n",
        "X = df.drop(\"Type\", axis=1)\n",
        "Y = df[\"Type\"]\n",
        "\n",
        "X_train, X_test, Y_train, Y_test = train_test_split(X, Y, test_size=0.2, random_state=42)\n",
        "\n",
        "#Initialize the Gaussian Naive Bayes classifier\n",
        "gnb = GaussianNB()\n",
        "\n",
        "#Training the model with the training set\n",
        "gnb.fit(X_train, Y_train)\n",
        "\n",
        "#Using the trained model on the testing data\n",
        "Y_pred = gnb.predict(X_test)\n",
        "\n",
        "#Evaluating the model using accuracy_score fun and predicted output\n",
        "acc_knn = round(gnb.score(X_train, Y_train) * 100, 2)\n",
        "print('Accuracy: ', acc_knn)\n",
        "\n",
        "#Getting the classification report of the data set\n",
        "print('\\nClassification Report: \\n', classification_report(Y_test, Y_pred))"
      ],
      "metadata": {
        "colab": {
          "base_uri": "https://localhost:8080/"
        },
        "id": "mcCXSAMNmN8G",
        "outputId": "ec9e56af-0144-420d-d024-b188f4fa2bbc"
      },
      "execution_count": 2,
      "outputs": [
        {
          "output_type": "stream",
          "name": "stdout",
          "text": [
            "Accuracy:  56.14\n",
            "\n",
            "Classification Report: \n",
            "               precision    recall  f1-score   support\n",
            "\n",
            "           1       0.41      0.64      0.50        11\n",
            "           2       0.43      0.21      0.29        14\n",
            "           3       0.40      0.67      0.50         3\n",
            "           5       0.50      0.25      0.33         4\n",
            "           6       1.00      1.00      1.00         3\n",
            "           7       0.89      1.00      0.94         8\n",
            "\n",
            "    accuracy                           0.56        43\n",
            "   macro avg       0.60      0.63      0.59        43\n",
            "weighted avg       0.55      0.56      0.53        43\n",
            "\n"
          ]
        }
      ]
    },
    {
      "cell_type": "code",
      "source": [
        "from sklearn.svm import SVC\n",
        "\n",
        "#Initializing the SVM classifier with linear kernel\n",
        "svm = SVC()\n",
        "#As the normal SVM is giving bad accuracy, added the kernel option to convert the data.\n",
        "\n",
        "#Training the model with the training set\n",
        "svm.fit(X_train, Y_train)\n",
        "\n",
        "#Predicting the target variable for the test set\n",
        "Y_pred = svm.predict(X_test)\n",
        "\n",
        "#Evaluating the model accuracy using score\n",
        "acc_svm = round(svm.score(X_train, Y_train) * 100, 2)\n",
        "print('Accuracy: ', acc_svm,'\\n')\n",
        "\n",
        "#Getting the accuracy report from classification_report\n",
        "print('Classification Report: \\n', classification_report(Y_test, Y_pred,zero_division=1))"
      ],
      "metadata": {
        "colab": {
          "base_uri": "https://localhost:8080/"
        },
        "id": "CK0KMioEmrok",
        "outputId": "ccb4610c-ca70-441e-9f34-6def10c4abb4"
      },
      "execution_count": 3,
      "outputs": [
        {
          "output_type": "stream",
          "name": "stdout",
          "text": [
            "Accuracy:  36.26 \n",
            "\n",
            "Classification Report: \n",
            "               precision    recall  f1-score   support\n",
            "\n",
            "           1       1.00      0.00      0.00        11\n",
            "           2       0.33      1.00      0.49        14\n",
            "           3       1.00      0.00      0.00         3\n",
            "           5       1.00      0.00      0.00         4\n",
            "           6       1.00      0.00      0.00         3\n",
            "           7       1.00      0.00      0.00         8\n",
            "\n",
            "    accuracy                           0.33        43\n",
            "   macro avg       0.89      0.17      0.08        43\n",
            "weighted avg       0.78      0.33      0.16        43\n",
            "\n"
          ]
        }
      ]
    },
    {
      "cell_type": "code",
      "source": [],
      "metadata": {
        "id": "pFzuQRN_n4e4"
      },
      "execution_count": null,
      "outputs": []
    }
  ]
}